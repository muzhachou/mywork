{
 "cells": [
  {
   "cell_type": "markdown",
   "metadata": {},
   "source": [
    "# Q11661: Burger Time\n",
    "大家都知道，在重要的公路旁都會有速食餐廳。你可以在那裡買到漢堡、熱狗、披薩、三明治等等。\n",
    "但有很多時候問題不是找不到餐廳，而是找不到藥局。在你吃了許多速食後，需要一間藥局也是平常的，因為你的胃可能開始疼痛了。\n",
    "給你餐廳和藥局的在公路的位置，請你找出某間餐廳和藥局間最短的距離。\n",
    "###  Input\n",
    "輸入含有多組測試資料。每組測試資料2列，第一列含有 1 個正整數  L （ 1 <= n <= 2000000）代表公路的長度。\n",
    "第二列為長度L的字串，顯示沿著公路的餐廳及藥房的位置。字串的內容為下列之一：\n",
    "\n",
    "R代表這個位置有餐廳\n",
    "D代表這個位置有藥局\n",
    "Z代表這個位置同時有餐廳及藥局\n",
    ". 代表空的位置\n",
    "你可以假設每組測試資料中至少有一間餐廳和一間藥局。\n",
    "當 L 為 0 時，代表輸入結束。請參考Sample Input。\n",
    "\n",
    "### Output\n",
    "對每一組測試資料輸出一列，代表公路上餐廳和藥局間最短的距離。"
   ]
  },
  {
   "cell_type": "code",
   "execution_count": 57,
   "metadata": {},
   "outputs": [
    {
     "name": "stdout",
     "output_type": "stream",
     "text": [
      "25\n",
      "..D...R.RR...DD...D.R...R\n",
      "2\n"
     ]
    }
   ],
   "source": [
    "n=int(input())\n",
    "R=input()\n",
    "A=[i for i in R]\n",
    "c=len(A)\n",
    "if 'Z' in A:\n",
    "    print('0')\n",
    "else:\n",
    "    Rlist=[]\n",
    "    Dlist=[]\n",
    "    for i in range(c):\n",
    "        if A[i]=='R':\n",
    "            Rlist.append(i)\n",
    "        elif (A[i]=='D'):\n",
    "            Dlist.append(i)\n",
    "\n",
    "    ans=min([abs(x-y) for x in Rlist for y in Dlist])\n",
    "    print(f'{ans}')\n",
    "    "
   ]
  }
 ],
 "metadata": {
  "kernelspec": {
   "display_name": "Python 3",
   "language": "python",
   "name": "python3"
  },
  "language_info": {
   "codemirror_mode": {
    "name": "ipython",
    "version": 3
   },
   "file_extension": ".py",
   "mimetype": "text/x-python",
   "name": "python",
   "nbconvert_exporter": "python",
   "pygments_lexer": "ipython3",
   "version": "3.7.3"
  }
 },
 "nbformat": 4,
 "nbformat_minor": 2
}
