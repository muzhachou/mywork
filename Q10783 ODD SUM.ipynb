{
 "cells": [
  {
   "cell_type": "markdown",
   "metadata": {},
   "source": [
    "# Q10783: Odd Sum\n",
    "給你一個範圍 a 到 b ，請你找出 a 與 b 之間所有奇數的和。\n",
    "例如：範圍 [3, 9] 中所有奇數的和就是 3 + 5 + 7 + 9 = 24 。\n",
    "\n",
    "### Input\n",
    "輸入的第一列有一個整數 T （1≦T≦100），代表以下有多少組測試資料。\n",
    "每組測試資料為兩列，包含兩個數 a 與 b （0≦a≦b≦100）。\n",
    "### Output\n",
    "每組測試資料輸出一列，內容為 a 及 b 間所有奇數的和。"
   ]
  },
  {
   "cell_type": "code",
   "execution_count": 4,
   "metadata": {},
   "outputs": [
    {
     "name": "stdout",
     "output_type": "stream",
     "text": [
      "請輸入a1\n",
      "請輸入b10\n",
      "25\n"
     ]
    }
   ],
   "source": [
    "a=int(input(\"請輸入a\"))\n",
    "b=int(input(\"請輸入b\"))\n",
    "ans=0\n",
    "if a%2==0:\n",
    "    if b%2==0:\n",
    "        for i in range(a+1,b,2):\n",
    "            ans+=i\n",
    "    else:\n",
    "        for i in range(a+1,b+1,2):\n",
    "            ans+=i\n",
    "else:\n",
    "    if b%2==0:\n",
    "        for i in range(a,b,2):\n",
    "            ans+=i\n",
    "    else:\n",
    "        for i in range(a,b+1,2):\n",
    "            ans+=i\n",
    "print(ans)"
   ]
  },
  {
   "cell_type": "code",
   "execution_count": 2,
   "metadata": {},
   "outputs": [
    {
     "data": {
      "text/plain": [
       "0"
      ]
     },
     "execution_count": 2,
     "metadata": {},
     "output_type": "execute_result"
    }
   ],
   "source": []
  },
  {
   "cell_type": "code",
   "execution_count": null,
   "metadata": {},
   "outputs": [],
   "source": []
  }
 ],
 "metadata": {
  "kernelspec": {
   "display_name": "Python 3",
   "language": "python",
   "name": "python3"
  },
  "language_info": {
   "codemirror_mode": {
    "name": "ipython",
    "version": 3
   },
   "file_extension": ".py",
   "mimetype": "text/x-python",
   "name": "python",
   "nbconvert_exporter": "python",
   "pygments_lexer": "ipython3",
   "version": "3.7.3"
  }
 },
 "nbformat": 4,
 "nbformat_minor": 2
}
