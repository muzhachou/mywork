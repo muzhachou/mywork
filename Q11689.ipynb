{
 "cells": [
  {
   "cell_type": "markdown",
   "metadata": {},
   "source": [
    "# Q11689: Soda Surpler\n",
    "Tim 是一個非常愛喝汽水的人。由於他沒有錢，所以他要喝汽水的唯一方法就是收集空汽水瓶子，然後拿去回收換取錢再去買新汽水來喝。除了他自己喝完的空瓶子，Tim也會到街上去收集別人喝完的空瓶子。有一天，他非常的渴，他要盡可能的喝汽水，直到他得不到任何一瓶為止。\n",
    "### Input\n",
    "輸入的第1列有一個整數N，代表以下有多少組測試資料。\n",
    "每組測試資料1列，含有 3 個整數  e,f,c 。e（0 <=  e < 1000）代表Tim一開始擁有的空瓶子數目，f（0 <=  f < 1000）代表Tim在這一天他在街上收集到的空瓶子數目，c（1 <  c < 2000）代表多少個空瓶子可以換一瓶新的汽水。\n",
    "\n",
    "請參考Sample Input。\n",
    "### Output\n",
    "對每一組測試資料輸出一列，代表 Tim 可以喝到多少瓶汽水。"
   ]
  },
  {
   "cell_type": "code",
   "execution_count": 1,
   "metadata": {},
   "outputs": [
    {
     "name": "stdout",
     "output_type": "stream",
     "text": [
      "9\n",
      "0\n",
      "3\n"
     ]
    }
   ],
   "source": [
    "n=int(input())\n",
    "for i in range(n):\n",
    "    e=int(input())\n",
    "    f=int(input())\n",
    "    c=int(input())"
   ]
  },
  {
   "cell_type": "code",
   "execution_count": null,
   "metadata": {},
   "outputs": [],
   "source": []
  },
  {
   "cell_type": "code",
   "execution_count": null,
   "metadata": {},
   "outputs": [],
   "source": []
  }
 ],
 "metadata": {
  "kernelspec": {
   "display_name": "Python 3",
   "language": "python",
   "name": "python3"
  },
  "language_info": {
   "codemirror_mode": {
    "name": "ipython",
    "version": 3
   },
   "file_extension": ".py",
   "mimetype": "text/x-python",
   "name": "python",
   "nbconvert_exporter": "python",
   "pygments_lexer": "ipython3",
   "version": "3.7.3"
  }
 },
 "nbformat": 4,
 "nbformat_minor": 2
}
