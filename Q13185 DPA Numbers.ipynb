{
 "cells": [
  {
   "cell_type": "markdown",
   "metadata": {},
   "source": [
    "# Q13185 DPA Numbers I\n",
    "一個整數b如果可以被另一個整數a整除（在這裡a>b），我們稱b是a的一個因數。\n",
    "Perfect Number是一個正整數並且等於其所有因數（不包含它自己）的和。\n",
    "例如：6 和 28 都是 perfect number。因為 6=1+2+3，28=1+2+4+7+14。\n",
    "如果一個正整數不是perfect，那他就是deficient或者是 abundant，根據其所有因數的和是小於或大於這個數本身。因此，9是deficient因為1+3<9。而12是abundant因 為1+2 +3+4+6>12。\n",
    "請寫一個程式求出某一個數是perfect, deficient 或者abundant。\n",
    "### Input\n",
    "輸入的第一列有一個正整數t代表以下有幾筆測資。（ 1 <= t <= 500 ）\n",
    "每筆測資一列，有一個正整數 n（2 <= n <= 1000 ）\n",
    "### Output\n",
    "對每筆測資輸出一列，輸出 n 是 perfect, deficient 或者 abundant。"
   ]
  },
  {
   "cell_type": "code",
   "execution_count": 33,
   "metadata": {},
   "outputs": [
    {
     "name": "stdout",
     "output_type": "stream",
     "text": [
      "30\n",
      "abundant\n"
     ]
    }
   ],
   "source": [
    "t=int(input())\n",
    "ans=[]\n",
    "A=0\n",
    "for i in range(1,t):\n",
    "    if t%i==0:\n",
    "        ans.append(i) \n",
    "for j in range(len(ans)):\n",
    "    A +=ans[j]\n",
    "if A==t:\n",
    "    print('perfect')\n",
    "elif A<t:\n",
    "    print('deficient')\n",
    "else:\n",
    "    print('abundant')"
   ]
  }
 ],
 "metadata": {
  "kernelspec": {
   "display_name": "Python 3",
   "language": "python",
   "name": "python3"
  },
  "language_info": {
   "codemirror_mode": {
    "name": "ipython",
    "version": 3
   },
   "file_extension": ".py",
   "mimetype": "text/x-python",
   "name": "python",
   "nbconvert_exporter": "python",
   "pygments_lexer": "ipython3",
   "version": "3.7.3"
  }
 },
 "nbformat": 4,
 "nbformat_minor": 2
}
