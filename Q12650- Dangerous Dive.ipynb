{
 "cells": [
  {
   "cell_type": "markdown",
   "metadata": {},
   "source": [
    "# Q12650 - Dangerous Dive\n",
    "有一個水壩的牆受到地震的影響受損了。事情緊急，必須馬上派人去修，以免水淹之患。\n",
    "修護任務非常困難，還好現在有 n 個志願者。\n",
    "政府製作了編號 1～n,總共n個號碼牌。每個志願者在去修理之前，會發給他一個號碼牌。\n",
    "任務結束後，志願者把他的號碼牌交還回來。\n",
    "現在水壩安全了，但不幸的是並不是每個志願者都有回來。有些志願者壯烈的犧牲了。\n",
    "你的任務是根據交還回來的號碼牌，找出有哪些號碼牌的志願者犧牲了。\n",
    "### Input\n",
    "輸入含有多筆測資。\n",
    "每筆測資2列，第一列有2個整數 n，R。（1 <= R <= n <= 10000）n代表共有多少個志願者，R代表有回來的志願者數目。\n",
    "接下來的一列有R個整數，代表有回來的志願者的號碼牌。\n",
    "### Outpu\n",
    "對每筆測資輸出一列。輸出犧牲者的號碼牌，由小到大排列。請注意，每個號碼的後面都有一個空格（最後一個後面也有）。\n",
    "如果每個志願者都有回來，請輸出單獨的一個 *"
   ]
  },
  {
   "cell_type": "code",
   "execution_count": 40,
   "metadata": {},
   "outputs": [
    {
     "name": "stdout",
     "output_type": "stream",
     "text": [
      "自願者人數：3\n",
      "歸來的號碼：3  2  1\n",
      "*\n"
     ]
    }
   ],
   "source": [
    "n=int(input(\"自願者人數：\"))\n",
    "R=str(input(\"歸來的號碼：\"))\n",
    "R1=R.split()\n",
    "AL=[]\n",
    "R2=[]\n",
    "ANS=[]\n",
    "for i in range(1,n+1):\n",
    "    AL.append(i)\n",
    "for item in R1:\n",
    "    R2.append(int(item))\n",
    "L=set(R2)\n",
    "M=set(AL)\n",
    "K=M-L\n",
    "for item in K:\n",
    "    ANS.append(item)\n",
    "    ANS.sort()\n",
    "if len(ANS)==0:\n",
    "    print('*')\n",
    "else:\n",
    "    for j in ANS:\n",
    "        print(j,end=\" \")\n",
    "    "
   ]
  }
 ],
 "metadata": {
  "kernelspec": {
   "display_name": "Python 3",
   "language": "python",
   "name": "python3"
  },
  "language_info": {
   "codemirror_mode": {
    "name": "ipython",
    "version": 3
   },
   "file_extension": ".py",
   "mimetype": "text/x-python",
   "name": "python",
   "nbconvert_exporter": "python",
   "pygments_lexer": "ipython3",
   "version": "3.7.3"
  }
 },
 "nbformat": 4,
 "nbformat_minor": 2
}
