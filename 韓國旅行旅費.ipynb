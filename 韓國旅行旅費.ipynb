{
 "cells": [
  {
   "cell_type": "code",
   "execution_count": 1,
   "metadata": {},
   "outputs": [],
   "source": [
    "import numpy as np\n",
    "import matplotlib.pyplot as plt"
   ]
  },
  {
   "cell_type": "code",
   "execution_count": 1,
   "metadata": {},
   "outputs": [
    {
     "name": "stdout",
     "output_type": "stream",
     "text": [
      "請輸入您的稱呼:  啊哈哈\n",
      "啊哈哈  ,您好ヾ(●゜▽゜●)\n",
      "想去韓國旅行嗎？（是請回答y,否請回答n）:y\n",
      "韓國之旅一人預算多少錢（台幣）？: 6096\n",
      "要住幾晚？: 3\n",
      "要搭乘Y廉價航空還是Z傳統航空呢（請回答Y或Z）?：z\n",
      "祝您韓國之旅旅途愉快,ε≡ﾍ( ´∀`)ﾉ\n"
     ]
    }
   ],
   "source": [
    "name = input('請輸入您的稱呼:  ')\n",
    "print(name + '  ,您好ヾ(●゜▽゜●)')\n",
    "a = input('想去韓國旅行嗎？（是請回答y,否請回答n）:')\n",
    "if a=='n':\n",
    "    print('下次要去韓國旅行時再見面囉！Bye')\n",
    "else :\n",
    "    b=input('韓國之旅一人預算多少錢（台幣）？: ')\n",
    "    c=input('要住幾晚？: ')\n",
    "    d=input('要搭乘Y廉價航空還是Z傳統航空呢（請回答Y或Z）?：')\n",
    "if d=='Y':\n",
    "    e = int(b)-1000*int(c)-7000\n",
    "    if int(e)<=0:\n",
    "        print('旅費不足,請多賺點錢。(｀L_｀ ).')\n",
    "    elif int(e)>0 :\n",
    "        if int(e)/(int(c)*3) >=300:\n",
    "            print('旅費充足,可以吃好喝好！(((o(*ﾟ▽ﾟ*)o)))')\n",
    "        elif int(e)/(int(c)*3) >100:\n",
    "            print('不時來個小確幸，一份炸雞沒問題啊！(♡(*´∀｀*)人(*´∀｀*)♡')\n",
    "        elif int(e)/(int(c)*3) <=100:\n",
    "            print('旅費拮据,只能吃紫菜包飯了！(´c_`)')\n",
    "if d =='Z':\n",
    "    f=float(b)-1000*int(c)-10000\n",
    "    if int(f)<=0:\n",
    "         print('旅費不足,請多賺點錢。(｀L_｀ ).')\n",
    "    elif int(f)>0 :\n",
    "        if int(f)/(int(c)*3) >=300:\n",
    "            print('旅費充足,可以吃好喝好！(((o(*ﾟ▽ﾟ*)o)))')\n",
    "        elif int(f)/(int(c)*3) >=100:\n",
    "            print('不時來個小確幸，一份炸雞沒問題啊！(♡(*´∀｀*)人(*´∀｀*)♡')\n",
    "        else:\n",
    "              print('旅費拮据,只能吃紫菜包飯了！(´c_`)')\n",
    "print('祝您韓國之旅旅途愉快,ε≡ﾍ( ´∀`)ﾉ')"
   ]
  },
  {
   "cell_type": "code",
   "execution_count": null,
   "metadata": {},
   "outputs": [],
   "source": []
  }
 ],
 "metadata": {
  "kernelspec": {
   "display_name": "Python 3",
   "language": "python",
   "name": "python3"
  },
  "language_info": {
   "codemirror_mode": {
    "name": "ipython",
    "version": 3
   },
   "file_extension": ".py",
   "mimetype": "text/x-python",
   "name": "python",
   "nbconvert_exporter": "python",
   "pygments_lexer": "ipython3",
   "version": "3.7.3"
  }
 },
 "nbformat": 4,
 "nbformat_minor": 2
}
