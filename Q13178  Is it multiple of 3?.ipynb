{
 "cells": [
  {
   "cell_type": "markdown",
   "metadata": {},
   "source": [
    "# Q13178  Is it multiple of 3?\n",
    "相信大家都學過要如何判斷一個正整數  是否為3的倍數的方法。把它的每個位數加起來， 如果是3的倍數那原來的數就是3的倍數，如果不是，那它就不是3的倍數。例如：246, 2+4+6=12，是3的倍數，所以246是3的倍數。而 245不是3的倍數，因為2+4+5=11, 並非3的倍數。\n",
    "在本問題中，要給你一個正整數 n，請你將1到n連接起來建立一個大整數N。例如： n=2, 那N=12，n=3, 那N=123，n=6, 那N=123456，n=13, 那N=12345678910111213\n",
    "要請你判斷N是否是3的倍數？\n",
    "### Input\n",
    "輸入的第一列有一個正整數代表以下有幾筆測資。\n",
    "每筆測資一列，有一個正整數 n（ 1 <= n <= 109）\n",
    "### Output\n",
    "對每筆測資輸出一列，如果根據n建出來的大整數N是3的倍數，輸出  YES，否則輸出 NO"
   ]
  },
  {
   "cell_type": "code",
   "execution_count": 6,
   "metadata": {},
   "outputs": [
    {
     "name": "stdout",
     "output_type": "stream",
     "text": [
      "130000000\n",
      "NO\n"
     ]
    }
   ],
   "source": [
    "n=int(input())\n",
    "A=0\n",
    "for i in range(1,n+1):\n",
    "    A += i\n",
    "if A%3==0:\n",
    "    print(\"YES\")\n",
    "else:\n",
    "    print(\"NO\")"
   ]
  },
  {
   "cell_type": "markdown",
   "metadata": {},
   "source": [
    "## 改良版題目 印出Ｎ"
   ]
  },
  {
   "cell_type": "code",
   "execution_count": 15,
   "metadata": {},
   "outputs": [
    {
     "name": "stdout",
     "output_type": "stream",
     "text": [
      "13\n",
      "NO\n",
      "12345678910111213\n"
     ]
    }
   ],
   "source": [
    "n=int(input())\n",
    "A=0\n",
    "N=''\n",
    "for i in range(1,n+1):\n",
    "    A += i\n",
    "    N+=str(i)\n",
    "if A%3==0:\n",
    "    print(\"YES\")\n",
    "else:\n",
    "    print(\"NO\")\n",
    "print(N)"
   ]
  },
  {
   "cell_type": "code",
   "execution_count": null,
   "metadata": {},
   "outputs": [],
   "source": []
  }
 ],
 "metadata": {
  "kernelspec": {
   "display_name": "Python 3",
   "language": "python",
   "name": "python3"
  },
  "language_info": {
   "codemirror_mode": {
    "name": "ipython",
    "version": 3
   },
   "file_extension": ".py",
   "mimetype": "text/x-python",
   "name": "python",
   "nbconvert_exporter": "python",
   "pygments_lexer": "ipython3",
   "version": "3.7.3"
  }
 },
 "nbformat": 4,
 "nbformat_minor": 2
}
