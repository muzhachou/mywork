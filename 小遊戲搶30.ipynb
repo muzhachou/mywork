{
 "cells": [
  {
   "cell_type": "code",
   "execution_count": 3,
   "metadata": {},
   "outputs": [
    {
     "name": "stdout",
     "output_type": "stream",
     "text": [
      "請輸入0-4間的數字：3\n",
      "3\n",
      "目前總和為\n",
      "3\n",
      "我的數字是：\n",
      "1\n",
      "目前總和為\n",
      "4\n",
      "請輸入0-4間的數字：4\n",
      "4\n",
      "目前總和為\n",
      "8\n",
      "我的數字是：\n",
      "4\n",
      "目前總和為\n",
      "12\n",
      "請輸入0-4間的數字：2\n",
      "2\n",
      "目前總和為\n",
      "14\n",
      "我的數字是：\n",
      "4\n",
      "目前總和為\n",
      "18\n",
      "請輸入0-4間的數字：3\n",
      "3\n",
      "目前總和為\n",
      "21\n",
      "我的數字是：\n",
      "3\n",
      "目前總和為\n",
      "24\n",
      "請輸入0-4間的數字：4\n",
      "4\n",
      "目前總和為\n",
      "28\n",
      "我的數字是：\n",
      "2\n",
      "目前總和為\n",
      "30\n",
      "我贏囉！\n",
      "♡(*´∀｀*)人(*´∀｀*)♡♡(*´∀｀*)人(*´∀｀*)♡♡(*´∀｀*)人(*´∀｀*)♡\n"
     ]
    }
   ],
   "source": [
    "import random\n",
    "sum=0\n",
    "while sum<30:\n",
    "    a = input(\"請輸入0-4間的數字：\")\n",
    "    if int(a)>4 :\n",
    "        print('輸入錯誤,請重新輸入')    \n",
    "    elif int(a)==0: \n",
    "          print('輸入錯誤,請重新輸入')\n",
    "    else :\n",
    "        print(a)\n",
    "        sum = sum + int(a)\n",
    "        print('目前總和為')\n",
    "        print(sum)\n",
    "        if sum==30:\n",
    "            print('你贏了,太強了!\\n ε≡ﾍ( ´∀`)ﾉε≡ﾍ( ´∀`)ﾉε≡ﾍ( ´∀`)ﾉε≡ﾍ( ´∀`)ﾉε≡ﾍ( ´∀`)ﾉ')\n",
    "            break\n",
    "        elif sum>30:\n",
    "            print('超過30了,你輸囉～我贏了！\\n (๑•̀ㅂ•́)و✧')\n",
    "        else:\n",
    "            if sum in range(26,29):\n",
    "                c =30-sum\n",
    "                print('我的數字是：')\n",
    "                print(c)\n",
    "                sum = sum+int(c)\n",
    "                print('目前總和為')\n",
    "                print(sum)\n",
    "                print(\"我贏囉！\\n♡(*´∀｀*)人(*´∀｀*)♡♡(*´∀｀*)人(*´∀｀*)♡♡(*´∀｀*)人(*´∀｀*)♡\")\n",
    "            else:\n",
    "                c = random.randint(1,4)\n",
    "                print('我的數字是：')\n",
    "                print(c)\n",
    "                sum = sum+int(c)\n",
    "                print('目前總和為')\n",
    "                print(sum)\n"
   ]
  },
  {
   "cell_type": "code",
   "execution_count": null,
   "metadata": {},
   "outputs": [],
   "source": []
  }
 ],
 "metadata": {
  "kernelspec": {
   "display_name": "Python 3",
   "language": "python",
   "name": "python3"
  },
  "language_info": {
   "codemirror_mode": {
    "name": "ipython",
    "version": 3
   },
   "file_extension": ".py",
   "mimetype": "text/x-python",
   "name": "python",
   "nbconvert_exporter": "python",
   "pygments_lexer": "ipython3",
   "version": "3.7.3"
  }
 },
 "nbformat": 4,
 "nbformat_minor": 2
}
