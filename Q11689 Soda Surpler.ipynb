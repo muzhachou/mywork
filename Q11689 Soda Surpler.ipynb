{
 "cells": [
  {
   "cell_type": "markdown",
   "metadata": {},
   "source": [
    "# Q11689: Soda Surpler\n",
    "Tim 是一個非常愛喝汽水的人。由於他沒有錢，所以他要喝汽水的唯一方法就是收集空汽水瓶子，然後拿去回收換取錢再去買新汽水來喝。除了他自己喝完的空瓶子，Tim也會到街上去收集別人喝完的空瓶子。有一天，他非常的渴，他要盡可能的喝汽水，直到他得不到任何一瓶為止。\n",
    "### Input\n",
    "輸入的第1列有一個整數N，代表以下有多少組測試資料。\n",
    "每組測試資料1列，含有 3 個整數  e,f,c 。e（0 <=  e < 1000）代表Tim一開始擁有的空瓶子數目，f（0 <=  f < 1000）代表Tim在這一天他在街上收集到的空瓶子數目，c（1 <  c < 2000）代表多少個空瓶子可以換一瓶新的汽水。\n",
    "\n",
    "請參考Sample Input。\n",
    "### Output\n",
    "對每一組測試資料輸出一列，代表 Tim 可以喝到多少瓶汽水。"
   ]
  },
  {
   "cell_type": "code",
   "execution_count": 1,
   "metadata": {},
   "outputs": [
    {
     "name": "stdout",
     "output_type": "stream",
     "text": [
      "2\n",
      "9 0 3\n",
      "4\n",
      "5 5 2\n",
      "9\n"
     ]
    }
   ],
   "source": [
    "n=int(input())\n",
    "def con(x,c):\n",
    "    if x<c:\n",
    "        return 0\n",
    "    else:\n",
    "        return con(x//c+x%c,c)+ x//c\n",
    "for i in range(n):\n",
    "    D=input().split()\n",
    "    E=list(map(int,D))\n",
    "    e=E[0]\n",
    "    f=E[1]\n",
    "    c=E[2]\n",
    "    con(e+f,c)\n",
    "    print(f'{con(e+f,c)}')"
   ]
  },
  {
   "cell_type": "code",
   "execution_count": null,
   "metadata": {},
   "outputs": [],
   "source": []
  }
 ],
 "metadata": {
  "kernelspec": {
   "display_name": "Python 3",
   "language": "python",
   "name": "python3"
  },
  "language_info": {
   "codemirror_mode": {
    "name": "ipython",
    "version": 3
   },
   "file_extension": ".py",
   "mimetype": "text/x-python",
   "name": "python",
   "nbconvert_exporter": "python",
   "pygments_lexer": "ipython3",
   "version": "3.7.3"
  }
 },
 "nbformat": 4,
 "nbformat_minor": 2
}
