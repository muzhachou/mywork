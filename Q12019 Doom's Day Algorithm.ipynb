{
 "cells": [
  {
   "cell_type": "markdown",
   "metadata": {},
   "source": [
    "## Q12019: Doom's Day Algorithm\n",
    "請你判斷西元2011年的某月某日是星期幾。\n",
    "### Input\n",
    "輸入的第一列有一個表示測試資料組數的整數。接著每一列分別表示一組測試資料，其格式為M D。\n",
    "M表示月份(1~12)，D表示日期(1~31)，所有日期皆是合法的。\n",
    "### Output\n",
    "請你判斷2011年的該日期是星期幾。星期一到星期日分別為 Monday, Tuesday, Wednesday, \n",
    "Thursday, Friday, Saturday, Sunday。"
   ]
  },
  {
   "cell_type": "code",
   "execution_count": 87,
   "metadata": {},
   "outputs": [
    {
     "name": "stdout",
     "output_type": "stream",
     "text": [
      "12 31\n",
      "Saturday\n"
     ]
    }
   ],
   "source": [
    "date=input().split()\n",
    "M=int(date[0])\n",
    "D=int(date[1])\n",
    "day=['Monday','Tuesday', 'Wednesday','Thursday', 'Friday', 'Saturday', 'Sunday']\n",
    "DL=[31,28,31,30,31,30,31,31,30,31,30,31]\n",
    "\n",
    "def weekday(M,D):\n",
    "    count=0\n",
    "    if M>1:\n",
    "        for i in range(1,M):\n",
    "            count=count+int(DL[i-1])\n",
    "    count=count+D+4\n",
    "    index=count%7\n",
    "   \n",
    "    return day[index]\n",
    "\n",
    "\n",
    "print(weekday(M,D))\n",
    "# 2011年1月1日星期六\n"
   ]
  },
  {
   "cell_type": "code",
   "execution_count": null,
   "metadata": {},
   "outputs": [],
   "source": []
  }
 ],
 "metadata": {
  "kernelspec": {
   "display_name": "Python 3",
   "language": "python",
   "name": "python3"
  },
  "language_info": {
   "codemirror_mode": {
    "name": "ipython",
    "version": 3
   },
   "file_extension": ".py",
   "mimetype": "text/x-python",
   "name": "python",
   "nbconvert_exporter": "python",
   "pygments_lexer": "ipython3",
   "version": "3.7.3"
  }
 },
 "nbformat": 4,
 "nbformat_minor": 2
}
