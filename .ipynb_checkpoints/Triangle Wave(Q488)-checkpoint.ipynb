{
 "cells": [
  {
   "cell_type": "markdown",
   "metadata": {},
   "source": [
    "### 網頁題目\n",
    "\n",
    "[Triangle Wave] (http://luckycat.kshs.kh.edu.tw/homework/q488.htm)\n"
   ]
  },
  {
   "cell_type": "markdown",
   "metadata": {},
   "source": [
    "### 程式說明：\n",
    "輸入的第一列有一個整數n，代表有幾組測試資料。接下來每組測試資料有2列，各有1個正整數（A、F），A代表振幅（A<=9），F代表頻率。\n",
    "\n",
    "第一列以及各組測試資料間皆有一空白行"
   ]
  },
  {
   "cell_type": "code",
   "execution_count": 17,
   "metadata": {},
   "outputs": [
    {
     "name": "stdout",
     "output_type": "stream",
     "text": [
      "請輸入一個Ａ值（Ａ<9）,：  3\n",
      "請輸入重複頻率Ｆ: 2\n",
      "1\n",
      "22\n",
      "333\n",
      "22\n",
      "1\n",
      "\n",
      "1\n",
      "22\n",
      "333\n",
      "22\n",
      "1\n",
      "\n"
     ]
    }
   ],
   "source": [
    "A=input('請輸入一個Ａ值（Ａ<9）,：  ')\n",
    "F=input('請輸入重複頻率Ｆ: ')\n",
    "s=['1','2','3','4','5','6','7','8','9']\n",
    "k=int(A)\n",
    "f=int(F)\n",
    "for a in range(1,10):\n",
    "    if a < f+1:\n",
    "        for i in range(1,10):\n",
    "             if  i <= k:\n",
    "                print(s[i-1]*i)\n",
    "        for i in range(1,10):\n",
    "             if  i <= k:\n",
    "                print(s[k-1-i]*(k-i))\n",
    "    a+=1"
   ]
  },
  {
   "cell_type": "code",
   "execution_count": null,
   "metadata": {},
   "outputs": [],
   "source": []
  }
 ],
 "metadata": {
  "kernelspec": {
   "display_name": "Python 3",
   "language": "python",
   "name": "python3"
  },
  "language_info": {
   "codemirror_mode": {
    "name": "ipython",
    "version": 3
   },
   "file_extension": ".py",
   "mimetype": "text/x-python",
   "name": "python",
   "nbconvert_exporter": "python",
   "pygments_lexer": "ipython3",
   "version": "3.7.3"
  }
 },
 "nbformat": 4,
 "nbformat_minor": 2
}
