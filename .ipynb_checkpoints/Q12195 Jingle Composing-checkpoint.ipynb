{
 "cells": [
  {
   "cell_type": "markdown",
   "metadata": {},
   "source": [
    "# Q12195 - Jingle Composing\n",
    "大家都有上過音樂課吧！每個音樂符號都有他的高低（Do, Re, Me, Fa.....）及長短（幾拍）。\n",
    "在這個問題中，我們只對音符的長短有興趣。以下的表格為所有可用的音符：\n",
    "![pic](Q12195.png)\n",
    "小李正在學作曲，由於他是個初學者，所以每小節的長度均為 1。例如，小李寫了如下的一首歌，共有5小節。\n",
    "/HH/QQQQ/XXXTXTEQH/W/HW/\n",
    "前4小節是對的，但第5小節是錯的（長度不為1）。你的任務是寫一個程式幫小李找出每首歌中有多少小節的拍子是對的。\n",
    "### Input\n",
    "輸入包含多組測試資料，每組資料一列，代表一首歌。每列長度介於3到200之間。每列至少有一小節（每小節前後均有符號 /）。每小節至少有1個音符。所有的 音符皆以上表中的大寫字母表示。\n",
    "當輸入列僅含一個星號，表示測試資料結束。請參考Sample Input。\n",
    "### Output\n",
    "每組測資輸出一列，輸出該筆測資中有多少小節的拍子是對的。"
   ]
  },
  {
   "cell_type": "code",
   "execution_count": 6,
   "metadata": {},
   "outputs": [
    {
     "name": "stdout",
     "output_type": "stream",
     "text": [
      "/HQQ/\n",
      "1\n",
      "*\n",
      " \n"
     ]
    }
   ],
   "source": [
    "spam={'W':1.0,'H':1/2,'Q':1/4,'E':1/8,'S':1/16,'T':1/32,'X':1/64}\n",
    "def Con(i):\n",
    "    L=[spam[x] for x in song[i]]\n",
    "    return sum(L)\n",
    "\n",
    "while True:\n",
    "    song=input().split(\"/\")\n",
    "    if '*' in song:\n",
    "        print(' ')\n",
    "        break\n",
    "    else:\n",
    "        a=len(song)\n",
    "        A=[i for i in range(1,a-1)]\n",
    "        L=list(map(Con,A))\n",
    "        ans=L.count(1.0)\n",
    "        print(f'{ans}')\n",
    "\n"
   ]
  },
  {
   "cell_type": "code",
   "execution_count": null,
   "metadata": {},
   "outputs": [],
   "source": []
  }
 ],
 "metadata": {
  "kernelspec": {
   "display_name": "Python 3",
   "language": "python",
   "name": "python3"
  },
  "language_info": {
   "codemirror_mode": {
    "name": "ipython",
    "version": 3
   },
   "file_extension": ".py",
   "mimetype": "text/x-python",
   "name": "python",
   "nbconvert_exporter": "python",
   "pygments_lexer": "ipython3",
   "version": "3.7.3"
  }
 },
 "nbformat": 4,
 "nbformat_minor": 2
}
